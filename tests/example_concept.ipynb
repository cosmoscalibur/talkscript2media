{
 "cells": [
  {
   "cell_type": "code",
   "execution_count": 1,
   "metadata": {
    "collapsed": true
   },
   "outputs": [],
   "source": [
    "import shlex, subprocess\n",
    "import re\n",
    "import os "
   ]
  },
  {
   "cell_type": "code",
   "execution_count": 3,
   "metadata": {},
   "outputs": [],
   "source": [
    "def number_images(route_images):\n",
    "    \"\"\"Extract the number of images from a directory.\n",
    "    \n",
    "    Args:\n",
    "    route_images (str): Route of images.\n",
    "    \n",
    "    Returns:\n",
    "    N (int): Number of images.\n",
    "    \n",
    "    \"\"\"\n",
    "    path, dirs, files = os.walk(route_images).__next__()\n",
    "    N = len(files)\n",
    "    return N\n",
    "\n",
    "N = number_images('tests/img') \n"
   ]
  },
  {
   "cell_type": "code",
   "execution_count": null,
   "metadata": {
    "collapsed": true
   },
   "outputs": [],
   "source": [
    "\n",
    "def Audio_festival(route_text, route_audio, text, language, N):\n",
    "    \"\"\"It generates audios from ffmpeg and texts.\n",
    "    \n",
    "    Args:\n",
    "    route_text (str): Route of text files. \n",
    "    route_audio (str): Route of audio. \n",
    "    text (list): Name of each text.\n",
    "    language (str): Voice for ffmpeg.\n",
    "    N (int): Number of images necessarily equal to the number of text files.\n",
    "    \n",
    "    Returns:\n",
    "    N audio files\n",
    "    \n",
    "    \"\"\"\n",
    "    log = open('process.log', 'a') # File log \n",
    "    log.write('Audio_festival')\n",
    "    log.flush()\n",
    "    \n",
    "    print('Text to Audio....')\n",
    "    print(language)\n",
    "\n",
    "    for i in range(N):\n",
    "        \n",
    "        command_line ='text2wave '+route_text + '/' + text[i] + ' -o ' \\\n",
    "            + route_audio + '/0%d.wav '%i+' '+' -eval ''('+language+')'''   \n",
    "        args = shlex.split(command_line)\n",
    "        c = subprocess.Popen(args, stdout=log, stderr=log)\n",
    "        \n",
    "# For language see available festival voices\n",
    "\n",
    "Audio_festival('tests/text','tests/audio',['01.text','02.txt','03.txt'],'don_diphone', N)"
   ]
  },
  {
   "cell_type": "code",
   "execution_count": null,
   "metadata": {
    "collapsed": true
   },
   "outputs": [],
   "source": [
    "def duration(N, route_images, route_audio, img):\n",
    "    \"\"\"Get the duration of each audio file.\n",
    "    \n",
    "    Args:\n",
    "    N (int): Number of images .\n",
    "    route_images (str): Route of images.\n",
    "    route_audio (str): Route of audio.\n",
    "    img (list): Name of the images.\n",
    "    \n",
    "    Returns:\n",
    "    Duration.txt (file): Generates a file with the duration of\n",
    "    each audio,with the format specified by ffmpeg.\n",
    "    \n",
    "    \"\"\"\n",
    "    f= open('Duration.txt','w')\n",
    "    f.write('ffconcat version 1.0\\n')\n",
    "    \n",
    "    for i in range(N):\n",
    "        \n",
    "        f.write('file '+route_images+'/'+img[i]+' \\n')\n",
    "        process = subprocess.Popen(['ffmpeg', '-i', route_audio+'/0%d.wav'%i], stdout=subprocess.PIPE, stderr=subprocess.STDOUT)\n",
    "        out, _ = process.communicate()\n",
    "        result = re.search(r\"Duration:\\s{1}(?P<hours>\\d+?):(?P<minutes>\\d+?):(?P<seconds>\\d+\\.\\d+?),\", out.decode('utf-8'), re.DOTALL).groupdict()\n",
    "        f.write('duration  '+result['seconds']+'\\n')\n",
    "        \n",
    "    f.close()\n",
    "\n",
    "duration(N,'tests/img','tests/audio',['01.jpg','02.jpg','03.jpg'])\n"
   ]
  },
  {
   "cell_type": "code",
   "execution_count": null,
   "metadata": {
    "collapsed": true
   },
   "outputs": [],
   "source": [
    "def image_video(r_video):\n",
    "    \"\"\"Generating video from images and archive duration\n",
    "    with format specifited by ffmpeg.\n",
    "    \n",
    "    Args:\n",
    "    r_video (str): Route of video.\n",
    "    \n",
    "    Returns:\n",
    "    Video0.mp4 (video): Video of images each with specific duration.\n",
    "    \n",
    "    \"\"\"\n",
    "    log = open('process.log', 'a') # File log \n",
    "    log.write('image_video\\n')\n",
    "    log.flush()  \n",
    "    print('Image to video...')\n",
    "    \n",
    "    \n",
    "    command_line = 'ffmpeg -i Duration.txt -vf \"scale=trunc(iw/2)*2:trunc(ih/2)*2\"  '+r_video+'/Video0.mp4'\n",
    "    args = shlex.split(command_line)\n",
    "    c = subprocess.Popen(args, stdout=log, stderr=log)\n",
    "    \n",
    "image_video('tests')"
   ]
  },
  {
   "cell_type": "code",
   "execution_count": null,
   "metadata": {
    "collapsed": true
   },
   "outputs": [],
   "source": [
    "def u_audios(N,route_audio):\n",
    "    \"\"\"Concatenate audios.\n",
    "    \n",
    "    Args:\n",
    "    N (int): Number of images.\n",
    "    route_audio (str): Route of audio files.\n",
    "    \n",
    "    Returns:\n",
    "    audio.wav (file): Audio union.\n",
    "    Aud.txt (file): Archivo for  union of audios with ffmpeg.\n",
    "    \n",
    "    \"\"\"\n",
    "    log = open('process.log', 'a')\n",
    "    log.write('U_Audios\\n')\n",
    "    log.flush()\n",
    "    print('Concatenating audios')\n",
    "    \n",
    "    f = open('Aud.txt', 'w')\n",
    "    \n",
    "    for i in range(N):\n",
    "        \n",
    "        f.write('file '+route_audio+'/0%d.wav \\n'%i)\n",
    "    f.close()\n",
    "    command_line = 'ffmpeg -f concat -safe 0 -i Aud.txt -c copy ' + route_audio \\\n",
    "        + '/audio.wav'\n",
    "    args = shlex.split(command_line)\n",
    "    c = subprocess.Popen(args, stdout=log, stderr=log)\n",
    "    \n",
    "u_audios(N,'tests/audio')"
   ]
  },
  {
   "cell_type": "code",
   "execution_count": null,
   "metadata": {
    "collapsed": true
   },
   "outputs": [],
   "source": [
    "def video_u_audio(route_audio, route_video, name_video):\n",
    "    \"\"\"Join audio and video.\n",
    "    \n",
    "    Args:\n",
    "    route_audio (str): Route audio.\n",
    "    route_video (str): Rote video.\n",
    "    name_video (str): Output video name.\n",
    "    \n",
    "    Returns:\n",
    "    video (file): Video. \n",
    "    \n",
    "    \"\"\"\n",
    "    log = open('process.log', 'a')\n",
    "    log.write('Video_U_Audio\\n')\n",
    "    log.flush() \n",
    "    print('Video.............')\n",
    "    \n",
    "    command_line = 'ffmpeg -i '+route_video+'/Video0.mp4 -i '+route_audio+'/audio.wav -strict -2 '+route_video+'/'+name_video\n",
    "    args = shlex.split(command_line)\n",
    "    c = subprocess.Popen(args,stdout=log, stderr=log).communicate()\n",
    "\n",
    "\n",
    "video_u_audio('tests/audio','tests','guardianes.mp4')    "
   ]
  }
 ],
 "metadata": {
  "kernelspec": {
   "display_name": "python3",
   "language": "python",
   "name": "python3"
  },
  "language_info": {
   "codemirror_mode": {
    "name": "ipython",
    "version": 2
   },
   "file_extension": ".py",
   "mimetype": "text/x-python",
   "name": "python",
   "nbconvert_exporter": "python",
   "pygments_lexer": "ipython2",
   "version": "2.7.12"
  }
 },
 "nbformat": 4,
 "nbformat_minor": 2
}
