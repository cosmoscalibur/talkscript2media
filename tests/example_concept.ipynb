{
 "cells": [
  {
   "cell_type": "code",
   "execution_count": 1,
   "metadata": {},
   "outputs": [
    {
     "name": "stdout",
     "output_type": "stream",
     "text": [
      "3\n"
     ]
    }
   ],
   "source": [
    "import shlex, subprocess\n",
    "\n",
    "#Number of images \n",
    "N=input()\n",
    "\n",
    "for i in range(1,N+1):\n",
    "    \n",
    "    #Generating audio files with festival\n",
    "    command_line = 'text2wave Texto/0%d.txt'%i + ' -o Audio/0%d.wav'%i\n",
    "    \n",
    "    args = shlex.split(command_line)\n",
    "    \n",
    "    subprocess.Popen(args)     "
   ]
  },
  {
   "cell_type": "code",
   "execution_count": 2,
   "metadata": {
    "collapsed": true
   },
   "outputs": [],
   "source": [
    "#Duration\n",
    "import subprocess\n",
    "import re\n",
    "\n",
    "\n",
    "f= open('Duration.txt','w') \n",
    " \n",
    "f.write('ffconcat version 1.0\\n') \n",
    "\n",
    "for i in range(1,N+1):\n",
    "    f.write('file  IMG/0%d.jpg \\n'%i) \n",
    "    process = subprocess.Popen(['ffmpeg',  '-i','Audio/0%d.wav'%i], stdout=subprocess.PIPE, stderr=subprocess.STDOUT)\n",
    "    out,_ = process.communicate()\n",
    "    result = re.search(r\"Duration:\\s{1}(?P<hours>\\d+?):(?P<minutes>\\d+?):(?P<seconds>\\d+\\.\\d+?),\", out, re.DOTALL).groupdict()\n",
    "    f.write('duration  '+result['seconds']+'\\n') \n",
    "f.close() \n"
   ]
  },
  {
   "cell_type": "code",
   "execution_count": 3,
   "metadata": {},
   "outputs": [
    {
     "data": {
      "text/plain": [
       "<subprocess.Popen at 0x7fc1ba7b0c90>"
      ]
     },
     "execution_count": 3,
     "metadata": {},
     "output_type": "execute_result"
    }
   ],
   "source": [
    "#Generating video from images and archive duration\n",
    "\n",
    "command_line ='ffmpeg -i Duration.txt  -vf \"scale=trunc(iw/2)*2:trunc(ih/2)*2\"  Video0.mp4'\n",
    "    \n",
    "args = shlex.split(command_line)\n",
    "    \n",
    "subprocess.Popen(args) "
   ]
  },
  {
   "cell_type": "code",
   "execution_count": 4,
   "metadata": {},
   "outputs": [
    {
     "data": {
      "text/plain": [
       "<subprocess.Popen at 0x7fc1b9f54a10>"
      ]
     },
     "execution_count": 4,
     "metadata": {},
     "output_type": "execute_result"
    }
   ],
   "source": [
    "#Union of audios\n",
    "f= open('Aud.txt','w') \n",
    "for i in range(1,N+1):\n",
    "    f.write('file Audio/0%d.wav \\n'%i)\n",
    "f.close()\n",
    "\n",
    "command_line ='ffmpeg -f concat -safe 0 -i Aud.txt -c copy Audio/Audio.wav'\n",
    "    \n",
    "args = shlex.split(command_line)\n",
    "    \n",
    "subprocess.Popen(args) "
   ]
  },
  {
   "cell_type": "code",
   "execution_count": 7,
   "metadata": {},
   "outputs": [
    {
     "data": {
      "text/plain": [
       "<subprocess.Popen at 0x7fc1b9f54110>"
      ]
     },
     "execution_count": 7,
     "metadata": {},
     "output_type": "execute_result"
    }
   ],
   "source": [
    "#Concatenate Video with Audio\n",
    "\n",
    "command_line ='ffmpeg -i Video0.mp4 -i Audio/Audio.wav  Video00.mp4'\n",
    "    \n",
    "args = shlex.split(command_line)\n",
    "    \n",
    "subprocess.Popen(args) "
   ]
  }
 ],
 "metadata": {
  "kernelspec": {
   "display_name": "Python 2",
   "language": "python",
   "name": "python2"
  },
  "language_info": {
   "codemirror_mode": {
    "name": "ipython",
    "version": 2
   },
   "file_extension": ".py",
   "mimetype": "text/x-python",
   "name": "python",
   "nbconvert_exporter": "python",
   "pygments_lexer": "ipython2",
   "version": "2.7.12"
  }
 },
 "nbformat": 4,
 "nbformat_minor": 2
}
