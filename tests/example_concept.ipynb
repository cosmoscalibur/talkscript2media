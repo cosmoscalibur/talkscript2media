{
 "cells": [
  {
   "cell_type": "code",
   "execution_count": 1,
   "metadata": {},
   "outputs": [
    {
     "name": "stdout",
     "output_type": "stream",
     "text": [
      "3\n"
     ]
    }
   ],
   "source": [
    "import shlex, subprocess\n",
    "import re\n",
    "\n",
    "#Number of images \n",
    "def Number_images(route_images):\n",
    "    path, dirs, files = os.walk(route_images).__next__()\n",
    "    N = len(files)\n",
    "    return N\n"
   ]
  },
  {
   "cell_type": "code",
   "execution_count": 2,
   "metadata": {
    "collapsed": true
   },
   "outputs": [],
   "source": [
    "#Duration\n",
    "\n",
    "f= open('Duration.txt','w')\n",
    "f.write('ffconcat version 1.0\\n')\n",
    "for i in range(1,N+1):\n",
    "    f.write('file  img/0%d.jpg \\n'%i)\n",
    "    process = subprocess.Popen(['ffmpeg',  '-i','audio/0%d.wav'%i], stdout=subprocess.PIPE, stderr=subprocess.STDOUT)\n",
    "    out,_ = process.communicate()\n",
    "    result = re.search(r\"Duration:\\s{1}(?P<hours>\\d+?):(?P<minutes>\\d+?):(?P<seconds>\\d+\\.\\d+?),\", out.decode('utf-8'), re.DOTALL).groupdict()\n",
    "    f.write('duration  '+result['seconds']+'\\n')\n",
    "f.close()"
   ]
  },
  {
   "cell_type": "code",
   "execution_count": 3,
   "metadata": {},
   "outputs": [
    {
     "data": {
      "text/plain": [
       "(None, None)"
      ]
     },
     "execution_count": 3,
     "metadata": {},
     "output_type": "execute_result"
    }
   ],
   "source": [
    "#Generating video from images and archive duration\n",
    "command_line ='ffmpeg -i Duration.txt  -vf \"scale=trunc(iw/2)*2:trunc(ih/2)*2\"  Video0.mp4'\n",
    "args = shlex.split(command_line)\n",
    "subprocess.Popen(args).communicate()"
   ]
  },
  {
   "cell_type": "code",
   "execution_count": 4,
   "metadata": {},
   "outputs": [
    {
     "data": {
      "text/plain": [
       "(None, None)"
      ]
     },
     "execution_count": 4,
     "metadata": {},
     "output_type": "execute_result"
    }
   ],
   "source": [
    "#Union of audios\n",
    "f= open('Aud.txt','w') \n",
    "for i in range(1,N+1):\n",
    "    f.write('file audio/0%d.wav \\n'%i)\n",
    "f.close()\n",
    "command_line ='ffmpeg -f concat -safe 0 -i Aud.txt -c copy audio/audio.wav'\n",
    "args = shlex.split(command_line)\n",
    "subprocess.Popen(args).communicate()"
   ]
  },
  {
   "cell_type": "code",
   "execution_count": 5,
   "metadata": {},
   "outputs": [
    {
     "data": {
      "text/plain": [
       "(None, None)"
      ]
     },
     "execution_count": 5,
     "metadata": {},
     "output_type": "execute_result"
    }
   ],
   "source": [
    "#Concatenate Video with Audio\n",
    "command_line ='ffmpeg -i Video0.mp4 -i audio/audio.wav -strict -2 Video00.mp4'\n",
    "args = shlex.split(command_line)\n",
    "subprocess.Popen(args).communicate()"
   ]
  }
 ],
 "metadata": {
  "kernelspec": {
   "display_name": "python3",
   "language": "python",
   "name": "python3"
  },
  "language_info": {
   "codemirror_mode": {
    "name": "ipython",
    "version": 2
   },
   "file_extension": ".py",
   "mimetype": "text/x-python",
   "name": "python",
   "nbconvert_exporter": "python",
   "pygments_lexer": "ipython2",
   "version": "2.7.12"
  }
 },
 "nbformat": 4,
 "nbformat_minor": 2
}
